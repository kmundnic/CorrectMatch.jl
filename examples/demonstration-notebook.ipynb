{
 "cells": [
  {
   "cell_type": "code",
   "execution_count": 11,
   "metadata": {},
   "outputs": [
    {
     "name": "stderr",
     "output_type": "stream",
     "text": [
      "┌ Info: Precompiling CSVFiles [5d742f6a-9f54-50ce-8119-2520741973ca]\n",
      "└ @ Base loading.jl:1260\n"
     ]
    }
   ],
   "source": [
    "using CorrectMatch: Copula, Uniqueness, Individual\n",
    "using StatsBase\n",
    "using CSVFiles, DataFrames\n",
    "using Distributions"
   ]
  },
  {
   "cell_type": "code",
   "execution_count": 13,
   "metadata": {
    "scrolled": true
   },
   "outputs": [
    {
     "data": {
      "text/html": [
       "<table class=\"data-frame\"><thead><tr><th></th><th>age</th><th>workclass</th><th>education-num</th><th>marital-status</th><th>occupation</th><th>relationship</th><th>race</th></tr><tr><th></th><th>Int64</th><th>Int64</th><th>Int64</th><th>Int64</th><th>Int64</th><th>Int64</th><th>Int64</th></tr></thead><tbody><p>32,561 rows × 11 columns (omitted printing of 4 columns)</p><tr><th>1</th><td>39</td><td>7</td><td>13</td><td>4</td><td>1</td><td>1</td><td>4</td></tr><tr><th>2</th><td>50</td><td>6</td><td>13</td><td>2</td><td>4</td><td>0</td><td>4</td></tr><tr><th>3</th><td>38</td><td>4</td><td>9</td><td>0</td><td>6</td><td>1</td><td>4</td></tr><tr><th>4</th><td>53</td><td>4</td><td>7</td><td>2</td><td>6</td><td>0</td><td>2</td></tr><tr><th>5</th><td>28</td><td>4</td><td>13</td><td>2</td><td>10</td><td>5</td><td>2</td></tr><tr><th>6</th><td>37</td><td>4</td><td>14</td><td>2</td><td>4</td><td>5</td><td>4</td></tr><tr><th>7</th><td>49</td><td>4</td><td>5</td><td>3</td><td>8</td><td>1</td><td>2</td></tr><tr><th>8</th><td>52</td><td>6</td><td>9</td><td>2</td><td>4</td><td>0</td><td>4</td></tr><tr><th>9</th><td>31</td><td>4</td><td>14</td><td>4</td><td>10</td><td>1</td><td>4</td></tr><tr><th>10</th><td>42</td><td>4</td><td>13</td><td>2</td><td>4</td><td>0</td><td>4</td></tr><tr><th>11</th><td>37</td><td>4</td><td>10</td><td>2</td><td>4</td><td>0</td><td>2</td></tr><tr><th>12</th><td>30</td><td>7</td><td>13</td><td>2</td><td>10</td><td>0</td><td>1</td></tr><tr><th>13</th><td>23</td><td>4</td><td>13</td><td>4</td><td>1</td><td>3</td><td>4</td></tr><tr><th>14</th><td>32</td><td>4</td><td>12</td><td>4</td><td>12</td><td>1</td><td>2</td></tr><tr><th>15</th><td>40</td><td>4</td><td>11</td><td>2</td><td>3</td><td>0</td><td>1</td></tr><tr><th>16</th><td>34</td><td>4</td><td>4</td><td>2</td><td>14</td><td>0</td><td>0</td></tr><tr><th>17</th><td>25</td><td>6</td><td>9</td><td>4</td><td>5</td><td>3</td><td>4</td></tr><tr><th>18</th><td>32</td><td>4</td><td>9</td><td>4</td><td>7</td><td>4</td><td>4</td></tr><tr><th>19</th><td>38</td><td>4</td><td>7</td><td>2</td><td>12</td><td>0</td><td>4</td></tr><tr><th>20</th><td>43</td><td>6</td><td>14</td><td>0</td><td>4</td><td>4</td><td>4</td></tr><tr><th>21</th><td>40</td><td>4</td><td>16</td><td>2</td><td>10</td><td>0</td><td>4</td></tr><tr><th>22</th><td>54</td><td>4</td><td>9</td><td>5</td><td>8</td><td>4</td><td>2</td></tr><tr><th>23</th><td>35</td><td>1</td><td>5</td><td>2</td><td>5</td><td>0</td><td>2</td></tr><tr><th>24</th><td>43</td><td>4</td><td>7</td><td>2</td><td>14</td><td>0</td><td>4</td></tr><tr><th>25</th><td>59</td><td>4</td><td>9</td><td>0</td><td>13</td><td>4</td><td>4</td></tr><tr><th>26</th><td>56</td><td>2</td><td>13</td><td>2</td><td>13</td><td>0</td><td>4</td></tr><tr><th>27</th><td>19</td><td>4</td><td>9</td><td>4</td><td>3</td><td>3</td><td>4</td></tr><tr><th>28</th><td>54</td><td>0</td><td>10</td><td>2</td><td>0</td><td>0</td><td>1</td></tr><tr><th>29</th><td>39</td><td>4</td><td>9</td><td>0</td><td>4</td><td>1</td><td>4</td></tr><tr><th>30</th><td>49</td><td>4</td><td>9</td><td>2</td><td>3</td><td>0</td><td>4</td></tr><tr><th>&vellip;</th><td>&vellip;</td><td>&vellip;</td><td>&vellip;</td><td>&vellip;</td><td>&vellip;</td><td>&vellip;</td><td>&vellip;</td></tr></tbody></table>"
      ],
      "text/latex": [
       "\\begin{tabular}{r|cccccccc}\n",
       "\t& age & workclass & education-num & marital-status & occupation & relationship & race & \\\\\n",
       "\t\\hline\n",
       "\t& Int64 & Int64 & Int64 & Int64 & Int64 & Int64 & Int64 & \\\\\n",
       "\t\\hline\n",
       "\t1 & 39 & 7 & 13 & 4 & 1 & 1 & 4 & $\\dots$ \\\\\n",
       "\t2 & 50 & 6 & 13 & 2 & 4 & 0 & 4 & $\\dots$ \\\\\n",
       "\t3 & 38 & 4 & 9 & 0 & 6 & 1 & 4 & $\\dots$ \\\\\n",
       "\t4 & 53 & 4 & 7 & 2 & 6 & 0 & 2 & $\\dots$ \\\\\n",
       "\t5 & 28 & 4 & 13 & 2 & 10 & 5 & 2 & $\\dots$ \\\\\n",
       "\t6 & 37 & 4 & 14 & 2 & 4 & 5 & 4 & $\\dots$ \\\\\n",
       "\t7 & 49 & 4 & 5 & 3 & 8 & 1 & 2 & $\\dots$ \\\\\n",
       "\t8 & 52 & 6 & 9 & 2 & 4 & 0 & 4 & $\\dots$ \\\\\n",
       "\t9 & 31 & 4 & 14 & 4 & 10 & 1 & 4 & $\\dots$ \\\\\n",
       "\t10 & 42 & 4 & 13 & 2 & 4 & 0 & 4 & $\\dots$ \\\\\n",
       "\t11 & 37 & 4 & 10 & 2 & 4 & 0 & 2 & $\\dots$ \\\\\n",
       "\t12 & 30 & 7 & 13 & 2 & 10 & 0 & 1 & $\\dots$ \\\\\n",
       "\t13 & 23 & 4 & 13 & 4 & 1 & 3 & 4 & $\\dots$ \\\\\n",
       "\t14 & 32 & 4 & 12 & 4 & 12 & 1 & 2 & $\\dots$ \\\\\n",
       "\t15 & 40 & 4 & 11 & 2 & 3 & 0 & 1 & $\\dots$ \\\\\n",
       "\t16 & 34 & 4 & 4 & 2 & 14 & 0 & 0 & $\\dots$ \\\\\n",
       "\t17 & 25 & 6 & 9 & 4 & 5 & 3 & 4 & $\\dots$ \\\\\n",
       "\t18 & 32 & 4 & 9 & 4 & 7 & 4 & 4 & $\\dots$ \\\\\n",
       "\t19 & 38 & 4 & 7 & 2 & 12 & 0 & 4 & $\\dots$ \\\\\n",
       "\t20 & 43 & 6 & 14 & 0 & 4 & 4 & 4 & $\\dots$ \\\\\n",
       "\t21 & 40 & 4 & 16 & 2 & 10 & 0 & 4 & $\\dots$ \\\\\n",
       "\t22 & 54 & 4 & 9 & 5 & 8 & 4 & 2 & $\\dots$ \\\\\n",
       "\t23 & 35 & 1 & 5 & 2 & 5 & 0 & 2 & $\\dots$ \\\\\n",
       "\t24 & 43 & 4 & 7 & 2 & 14 & 0 & 4 & $\\dots$ \\\\\n",
       "\t25 & 59 & 4 & 9 & 0 & 13 & 4 & 4 & $\\dots$ \\\\\n",
       "\t26 & 56 & 2 & 13 & 2 & 13 & 0 & 4 & $\\dots$ \\\\\n",
       "\t27 & 19 & 4 & 9 & 4 & 3 & 3 & 4 & $\\dots$ \\\\\n",
       "\t28 & 54 & 0 & 10 & 2 & 0 & 0 & 1 & $\\dots$ \\\\\n",
       "\t29 & 39 & 4 & 9 & 0 & 4 & 1 & 4 & $\\dots$ \\\\\n",
       "\t30 & 49 & 4 & 9 & 2 & 3 & 0 & 4 & $\\dots$ \\\\\n",
       "\t$\\dots$ & $\\dots$ & $\\dots$ & $\\dots$ & $\\dots$ & $\\dots$ & $\\dots$ & $\\dots$ &  \\\\\n",
       "\\end{tabular}\n"
      ],
      "text/plain": [
       "32561×11 DataFrame. Omitted printing of 6 columns\n",
       "│ Row   │ age   │ workclass │ education-num │ marital-status │ occupation │\n",
       "│       │ \u001b[90mInt64\u001b[39m │ \u001b[90mInt64\u001b[39m     │ \u001b[90mInt64\u001b[39m         │ \u001b[90mInt64\u001b[39m          │ \u001b[90mInt64\u001b[39m      │\n",
       "├───────┼───────┼───────────┼───────────────┼────────────────┼────────────┤\n",
       "│ 1     │ 39    │ 7         │ 13            │ 4              │ 1          │\n",
       "│ 2     │ 50    │ 6         │ 13            │ 2              │ 4          │\n",
       "│ 3     │ 38    │ 4         │ 9             │ 0              │ 6          │\n",
       "│ 4     │ 53    │ 4         │ 7             │ 2              │ 6          │\n",
       "│ 5     │ 28    │ 4         │ 13            │ 2              │ 10         │\n",
       "│ 6     │ 37    │ 4         │ 14            │ 2              │ 4          │\n",
       "│ 7     │ 49    │ 4         │ 5             │ 3              │ 8          │\n",
       "│ 8     │ 52    │ 6         │ 9             │ 2              │ 4          │\n",
       "│ 9     │ 31    │ 4         │ 14            │ 4              │ 10         │\n",
       "│ 10    │ 42    │ 4         │ 13            │ 2              │ 4          │\n",
       "⋮\n",
       "│ 32551 │ 43    │ 6         │ 10            │ 2              │ 3          │\n",
       "│ 32552 │ 32    │ 4         │ 6             │ 2              │ 6          │\n",
       "│ 32553 │ 43    │ 4         │ 11            │ 2              │ 12         │\n",
       "│ 32554 │ 32    │ 4         │ 14            │ 4              │ 13         │\n",
       "│ 32555 │ 53    │ 4         │ 14            │ 2              │ 4          │\n",
       "│ 32556 │ 22    │ 4         │ 10            │ 4              │ 11         │\n",
       "│ 32557 │ 27    │ 4         │ 12            │ 2              │ 13         │\n",
       "│ 32558 │ 40    │ 4         │ 9             │ 2              │ 7          │\n",
       "│ 32559 │ 58    │ 4         │ 9             │ 6              │ 1          │\n",
       "│ 32560 │ 22    │ 4         │ 9             │ 4              │ 1          │\n",
       "│ 32561 │ 52    │ 5         │ 9             │ 2              │ 4          │"
      ]
     },
     "execution_count": 13,
     "metadata": {},
     "output_type": "execute_result"
    }
   ],
   "source": [
    "df = DataFrame(load(File(format\"CSV\", \"adult.csv.gz\")))"
   ]
  },
  {
   "cell_type": "code",
   "execution_count": 15,
   "metadata": {},
   "outputs": [
    {
     "data": {
      "text/plain": [
       "(32561, 6)"
      ]
     },
     "execution_count": 15,
     "metadata": {},
     "output_type": "execute_result"
    }
   ],
   "source": [
    "df_sub = df[!, [:age, :sex, :workclass, :relationship, Symbol(\"marital-status\"), :race]];\n",
    "data = Array{Int}(df_sub)\n",
    "N, M = size(data)"
   ]
  },
  {
   "cell_type": "code",
   "execution_count": 16,
   "metadata": {},
   "outputs": [
    {
     "data": {
      "text/plain": [
       "(32561, 6)"
      ]
     },
     "execution_count": 16,
     "metadata": {},
     "output_type": "execute_result"
    }
   ],
   "source": [
    "N, M = size(data)"
   ]
  },
  {
   "cell_type": "markdown",
   "metadata": {},
   "source": [
    "## Estimating population uniqueness"
   ]
  },
  {
   "cell_type": "code",
   "execution_count": 18,
   "metadata": {},
   "outputs": [
    {
     "name": "stdout",
     "output_type": "stream",
     "text": [
      "True population uniqueness: 0.10853475016123583\n"
     ]
    }
   ],
   "source": [
    "# True population uniqueness\n",
    "u = Uniqueness.uniqueness(data)\n",
    "println(\"True population uniqueness: $u\")"
   ]
  },
  {
   "cell_type": "code",
   "execution_count": 21,
   "metadata": {},
   "outputs": [
    {
     "name": "stdout",
     "output_type": "stream",
     "text": [
      "Estimated population uniqueness: 0.12514971898897453\n"
     ]
    }
   ],
   "source": [
    "# Fit model and estimate uniqueness\n",
    "G = fit_mle(Copula.GaussianCopula, data; exact_marginal=true)\n",
    "u = Uniqueness.uniqueness(rand(G, N))\n",
    "println(\"Estimated population uniqueness: $u\")"
   ]
  },
  {
   "cell_type": "code",
   "execution_count": 23,
   "metadata": {},
   "outputs": [
    {
     "name": "stdout",
     "output_type": "stream",
     "text": [
      "Estimated population uniqueness (1% sample): 0.1440066337028961\n"
     ]
    }
   ],
   "source": [
    "# Fit model on 325 records (1% of the original data) and estimate uniqueness\n",
    "ix = sample(1:N, 325; replace=false);\n",
    "G = fit_mle(Copula.GaussianCopula, data[ix, :]; exact_marginal=false)\n",
    "u = Uniqueness.uniqueness(rand(G, N))\n",
    "println(\"Estimated population uniqueness (1% sample): $u\")"
   ]
  },
  {
   "cell_type": "markdown",
   "metadata": {},
   "source": [
    "## Estimating individual uniqueness"
   ]
  },
  {
   "cell_type": "code",
   "execution_count": 24,
   "metadata": {},
   "outputs": [],
   "source": [
    "function extract_marginal_ordered(row::AbstractVector)\n",
    "  cm = collect(values(countmap(row; alg=:dict)))\n",
    "  Categorical(cm / sum(cm))\n",
    "end\n",
    "\n",
    "marginals = [extract_marginal_ordered(data[:, i]) for i=1:M];"
   ]
  },
  {
   "cell_type": "code",
   "execution_count": 26,
   "metadata": {},
   "outputs": [],
   "source": [
    "G = fit_mle(Copula.GaussianCopula, marginals, data);"
   ]
  },
  {
   "cell_type": "markdown",
   "metadata": {},
   "source": [
    "### Likely unique individual"
   ]
  },
  {
   "cell_type": "code",
   "execution_count": 27,
   "metadata": {},
   "outputs": [
    {
     "data": {
      "text/plain": [
       "6-element Array{Int64,1}:\n",
       " 39\n",
       "  1\n",
       "  7\n",
       "  1\n",
       "  4\n",
       "  4"
      ]
     },
     "execution_count": 27,
     "metadata": {},
     "output_type": "execute_result"
    }
   ],
   "source": [
    "indiv = data[1, :] # 39 years old male with non Asian/Black/White race"
   ]
  },
  {
   "cell_type": "code",
   "execution_count": 42,
   "metadata": {},
   "outputs": [
    {
     "data": {
      "text/plain": [
       "0.9954610615400545"
      ]
     },
     "execution_count": 42,
     "metadata": {},
     "output_type": "execute_result"
    }
   ],
   "source": [
    "shifted_indiv = indiv - minimum(data, dims=1)[:] .+ 1\n",
    "Individual.individual_uniqueness(G, shifted_indiv, N)"
   ]
  },
  {
   "cell_type": "markdown",
   "metadata": {},
   "source": [
    "### Unlikely unique individual"
   ]
  },
  {
   "cell_type": "code",
   "execution_count": 43,
   "metadata": {},
   "outputs": [
    {
     "data": {
      "text/plain": [
       "6-element Array{Int64,1}:\n",
       " 30\n",
       "  1\n",
       "  7\n",
       "  0\n",
       "  2\n",
       "  1"
      ]
     },
     "execution_count": 43,
     "metadata": {},
     "output_type": "execute_result"
    }
   ],
   "source": [
    "indiv = data[12, :] # 30 years old white male"
   ]
  },
  {
   "cell_type": "code",
   "execution_count": 44,
   "metadata": {},
   "outputs": [
    {
     "data": {
      "text/plain": [
       "0.0008347430829221553"
      ]
     },
     "execution_count": 44,
     "metadata": {},
     "output_type": "execute_result"
    }
   ],
   "source": [
    "shifted_indiv = indiv - minimum(data, dims=1)[:] .+ 1\n",
    "Individual.individual_uniqueness(G, shifted_indiv, N)"
   ]
  },
  {
   "cell_type": "code",
   "execution_count": null,
   "metadata": {},
   "outputs": [],
   "source": []
  }
 ],
 "metadata": {
  "kernelspec": {
   "display_name": "Julia 1.4.1",
   "language": "julia",
   "name": "julia-1.4"
  },
  "language_info": {
   "file_extension": ".jl",
   "mimetype": "application/julia",
   "name": "julia",
   "version": "1.4.1"
  },
  "toc": {
   "nav_menu": {},
   "number_sections": true,
   "sideBar": true,
   "skip_h1_title": false,
   "title_cell": "Table of Contents",
   "title_sidebar": "Contents",
   "toc_cell": false,
   "toc_position": {},
   "toc_section_display": true,
   "toc_window_display": false
  }
 },
 "nbformat": 4,
 "nbformat_minor": 2
}
